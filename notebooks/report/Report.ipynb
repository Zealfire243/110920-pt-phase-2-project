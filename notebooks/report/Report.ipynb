{
 "cells": [
  {
   "cell_type": "code",
   "execution_count": 1,
   "metadata": {},
   "outputs": [],
   "source": [
    "import numpy as np\n",
    "import scipy as sp\n",
    "import pandas as pd\n",
    "import scipy.stats as stats\n",
    "import seaborn as sns\n",
    "import matplotlib.pyplot as plt\n",
    "import math\n",
    "import statsmodels.api as sm\n",
    "import statsmodels.formula.api as smf\n",
    "from sklearn.feature_selection import RFE\n",
    "from sklearn.linear_model import LinearRegression\n",
    "from statsmodels.stats.diagnostic import linear_rainbow, het_breuschpagan\n",
    "from statsmodels.stats.outliers_influence import variance_inflation_factor\n",
    "from sklearn.preprocessing import LabelEncoder\n",
    "from statsmodels.formula.api import ols"
   ]
  },
  {
   "cell_type": "markdown",
   "metadata": {},
   "source": [
    "I grouped all residential rows.\n",
    "I removed all null values of continuous variables and got rid of outliers for SalePrice and SqFtTotLiving"
   ]
  },
  {
   "cell_type": "code",
   "execution_count": 3,
   "metadata": {},
   "outputs": [],
   "source": [
    "def rainbow_check(results):\n",
    "    rainbow_statistic, rainbow_p_value = linear_rainbow(results)\n",
    "    print(\"Rainbow statistic:\", rainbow_statistic)\n",
    "    print(\"Rainbow p-value:\", rainbow_p_value)\n",
    "\n",
    "def Homoscadasticity_check(df, results, features):\n",
    "    y = df[\"SalePrice\"]\n",
    "    y_hat = results.predict()\n",
    "    fig4, ax4 = plt.subplots()\n",
    "    ax4.set(xlabel=\"Predicted Sale Price\",\n",
    "        ylabel=\"Residuals (Predicted - Actual Sale Price)\")\n",
    "    ax4.scatter(x=y_hat, y=y_hat-y, color=\"blue\", alpha=0.2)\n",
    "    plt.show()\n",
    "\n",
    "    lm, lm_p_value, fvalue, f_p_value = het_breuschpagan(y-y_hat, df[features])\n",
    "    print(\"Lagrange Multiplier p-value:\", lm_p_value)\n",
    "    print(\"F-statistic p-value:\", f_p_value)\n",
    "\n",
    "def vif_check(df, features):\n",
    "    rows = df[features].values\n",
    "\n",
    "    vif_df = pd.DataFrame()\n",
    "    vif_df[\"VIF\"] = [variance_inflation_factor(rows, i) for i in range(len(features))]\n",
    "    vif_df[\"feature\"] = features\n",
    "    print(vif_df)\n",
    "def stat_checks(df, results, features):\n",
    "    rainbow_check(results)\n",
    "    Homoscadasticity_check(df, results, features)\n",
    "    if len(features) > 1:\n",
    "        vif_check(df, features)"
   ]
  },
  {
   "cell_type": "code",
   "execution_count": 2,
   "metadata": {},
   "outputs": [],
   "source": [
    "residential_preprocessed = pd.read_csv('../../data/processed/residential_preprocessed.csv')\n",
    "residential_processed = pd.read_csv('../../data/processed/residential_processed.csv')"
   ]
  },
  {
   "cell_type": "code",
   "execution_count": 4,
   "metadata": {},
   "outputs": [],
   "source": [
    "fsm_df = residential_preprocessed[['BldgGrade', 'SalePrice']].copy()\n",
    "fsm_df.dropna(inplace=True)\n",
    "fsm = ols(formula=\"SalePrice ~ BldgGrade\", data=fsm_df)\n",
    "fsm_results = fsm.fit()"
   ]
  },
  {
   "cell_type": "code",
   "execution_count": 5,
   "metadata": {},
   "outputs": [
    {
     "data": {
      "text/html": [
       "<table class=\"simpletable\">\n",
       "<caption>OLS Regression Results</caption>\n",
       "<tr>\n",
       "  <th>Dep. Variable:</th>        <td>SalePrice</td>    <th>  R-squared:         </th>  <td>   0.392</td>  \n",
       "</tr>\n",
       "<tr>\n",
       "  <th>Model:</th>                   <td>OLS</td>       <th>  Adj. R-squared:    </th>  <td>   0.392</td>  \n",
       "</tr>\n",
       "<tr>\n",
       "  <th>Method:</th>             <td>Least Squares</td>  <th>  F-statistic:       </th>  <td>   8407.</td>  \n",
       "</tr>\n",
       "<tr>\n",
       "  <th>Date:</th>             <td>Mon, 29 Mar 2021</td> <th>  Prob (F-statistic):</th>   <td>  0.00</td>   \n",
       "</tr>\n",
       "<tr>\n",
       "  <th>Time:</th>                 <td>17:08:28</td>     <th>  Log-Likelihood:    </th> <td>-1.8275e+05</td>\n",
       "</tr>\n",
       "<tr>\n",
       "  <th>No. Observations:</th>      <td> 13038</td>      <th>  AIC:               </th>  <td>3.655e+05</td> \n",
       "</tr>\n",
       "<tr>\n",
       "  <th>Df Residuals:</th>          <td> 13036</td>      <th>  BIC:               </th>  <td>3.655e+05</td> \n",
       "</tr>\n",
       "<tr>\n",
       "  <th>Df Model:</th>              <td>     1</td>      <th>                     </th>      <td> </td>     \n",
       "</tr>\n",
       "<tr>\n",
       "  <th>Covariance Type:</th>      <td>nonrobust</td>    <th>                     </th>      <td> </td>     \n",
       "</tr>\n",
       "</table>\n",
       "<table class=\"simpletable\">\n",
       "<tr>\n",
       "      <td></td>         <th>coef</th>     <th>std err</th>      <th>t</th>      <th>P>|t|</th>  <th>[0.025</th>    <th>0.975]</th>  \n",
       "</tr>\n",
       "<tr>\n",
       "  <th>Intercept</th> <td>-1.067e+06</td> <td> 2.06e+04</td> <td>  -51.791</td> <td> 0.000</td> <td>-1.11e+06</td> <td>-1.03e+06</td>\n",
       "</tr>\n",
       "<tr>\n",
       "  <th>BldgGrade</th> <td> 2.335e+05</td> <td> 2546.581</td> <td>   91.689</td> <td> 0.000</td> <td> 2.29e+05</td> <td> 2.38e+05</td>\n",
       "</tr>\n",
       "</table>\n",
       "<table class=\"simpletable\">\n",
       "<tr>\n",
       "  <th>Omnibus:</th>       <td>1091.214</td> <th>  Durbin-Watson:     </th> <td>   1.963</td>\n",
       "</tr>\n",
       "<tr>\n",
       "  <th>Prob(Omnibus):</th>  <td> 0.000</td>  <th>  Jarque-Bera (JB):  </th> <td>1610.023</td>\n",
       "</tr>\n",
       "<tr>\n",
       "  <th>Skew:</th>           <td> 0.667</td>  <th>  Prob(JB):          </th> <td>    0.00</td>\n",
       "</tr>\n",
       "<tr>\n",
       "  <th>Kurtosis:</th>       <td> 4.089</td>  <th>  Cond. No.          </th> <td>    65.3</td>\n",
       "</tr>\n",
       "</table><br/><br/>Notes:<br/>[1] Standard Errors assume that the covariance matrix of the errors is correctly specified."
      ],
      "text/plain": [
       "<class 'statsmodels.iolib.summary.Summary'>\n",
       "\"\"\"\n",
       "                            OLS Regression Results                            \n",
       "==============================================================================\n",
       "Dep. Variable:              SalePrice   R-squared:                       0.392\n",
       "Model:                            OLS   Adj. R-squared:                  0.392\n",
       "Method:                 Least Squares   F-statistic:                     8407.\n",
       "Date:                Mon, 29 Mar 2021   Prob (F-statistic):               0.00\n",
       "Time:                        17:08:28   Log-Likelihood:            -1.8275e+05\n",
       "No. Observations:               13038   AIC:                         3.655e+05\n",
       "Df Residuals:                   13036   BIC:                         3.655e+05\n",
       "Df Model:                           1                                         \n",
       "Covariance Type:            nonrobust                                         \n",
       "==============================================================================\n",
       "                 coef    std err          t      P>|t|      [0.025      0.975]\n",
       "------------------------------------------------------------------------------\n",
       "Intercept  -1.067e+06   2.06e+04    -51.791      0.000   -1.11e+06   -1.03e+06\n",
       "BldgGrade   2.335e+05   2546.581     91.689      0.000    2.29e+05    2.38e+05\n",
       "==============================================================================\n",
       "Omnibus:                     1091.214   Durbin-Watson:                   1.963\n",
       "Prob(Omnibus):                  0.000   Jarque-Bera (JB):             1610.023\n",
       "Skew:                           0.667   Prob(JB):                         0.00\n",
       "Kurtosis:                       4.089   Cond. No.                         65.3\n",
       "==============================================================================\n",
       "\n",
       "Notes:\n",
       "[1] Standard Errors assume that the covariance matrix of the errors is correctly specified.\n",
       "\"\"\""
      ]
     },
     "execution_count": 5,
     "metadata": {},
     "output_type": "execute_result"
    }
   ],
   "source": [
    "fsm_results.summary()"
   ]
  },
  {
   "cell_type": "code",
   "execution_count": 6,
   "metadata": {},
   "outputs": [
    {
     "name": "stdout",
     "output_type": "stream",
     "text": [
      "Rainbow statistic: 1.0469183588404274\n",
      "Rainbow p-value: 0.03210543199376004\n"
     ]
    },
    {
     "data": {
      "image/png": "[encoded data removed]",
      "text/plain": [
       "<Figure size 432x288 with 1 Axes>"
      ]
     },
     "metadata": {
      "needs_background": "light"
     },
     "output_type": "display_data"
    },
    {
     "name": "stdout",
     "output_type": "stream",
     "text": [
      "Lagrange Multiplier p-value: nan\n",
      "F-statistic p-value: 0.0\n"
     ]
    }
   ],
   "source": [
    "stat_checks(fsm_df, fsm_results, ['BldgGrade'])"
   ]
  },
  {
   "cell_type": "markdown",
   "metadata": {},
   "source": [
    "I can only explain about 39% of the variance in SalePrice, with only one feature it is statistically significant with an alpha level of 0.05. We violate the normality assumption with the probability of our JB value being 0. The rainbow stat check returned a p-value of 0.0321. Being below the mark of 0.05, this model violates the linearity assumption. Returning a p-value for our residuals this low means that this model violates the homoscedasticity assumption."
   ]
  },
  {
   "cell_type": "code",
   "execution_count": 8,
   "metadata": {},
   "outputs": [],
   "source": [
    "model_5_df = residential_processed[['BldgGrade', 'SqFtTotLiving_log', 'SalePrice', \n",
    "                                    'BathFullCount_log', 'Bedrooms_log']].copy()\n",
    "model_5_df.dropna(inplace=True)\n",
    "model_5 = ols(formula=\"\"\"SalePrice ~ BldgGrade + SqFtTotLiving_log\n",
    "                        + BathFullCount_log + Bedrooms_log\"\"\", data=model_5_df)\n",
    "model_5_results = model_5.fit()"
   ]
  },
  {
   "cell_type": "code",
   "execution_count": 9,
   "metadata": {},
   "outputs": [
    {
     "data": {
      "text/html": [
       "<table class=\"simpletable\">\n",
       "<caption>OLS Regression Results</caption>\n",
       "<tr>\n",
       "  <th>Dep. Variable:</th>        <td>SalePrice</td>    <th>  R-squared:         </th>  <td>   0.440</td>  \n",
       "</tr>\n",
       "<tr>\n",
       "  <th>Model:</th>                   <td>OLS</td>       <th>  Adj. R-squared:    </th>  <td>   0.440</td>  \n",
       "</tr>\n",
       "<tr>\n",
       "  <th>Method:</th>             <td>Least Squares</td>  <th>  F-statistic:       </th>  <td>   2552.</td>  \n",
       "</tr>\n",
       "<tr>\n",
       "  <th>Date:</th>             <td>Mon, 29 Mar 2021</td> <th>  Prob (F-statistic):</th>   <td>  0.00</td>   \n",
       "</tr>\n",
       "<tr>\n",
       "  <th>Time:</th>                 <td>17:09:32</td>     <th>  Log-Likelihood:    </th> <td>-1.8177e+05</td>\n",
       "</tr>\n",
       "<tr>\n",
       "  <th>No. Observations:</th>      <td> 13009</td>      <th>  AIC:               </th>  <td>3.635e+05</td> \n",
       "</tr>\n",
       "<tr>\n",
       "  <th>Df Residuals:</th>          <td> 13004</td>      <th>  BIC:               </th>  <td>3.636e+05</td> \n",
       "</tr>\n",
       "<tr>\n",
       "  <th>Df Model:</th>              <td>     4</td>      <th>                     </th>      <td> </td>     \n",
       "</tr>\n",
       "<tr>\n",
       "  <th>Covariance Type:</th>      <td>nonrobust</td>    <th>                     </th>      <td> </td>     \n",
       "</tr>\n",
       "</table>\n",
       "<table class=\"simpletable\">\n",
       "<tr>\n",
       "          <td></td>             <th>coef</th>     <th>std err</th>      <th>t</th>      <th>P>|t|</th>  <th>[0.025</th>    <th>0.975]</th>  \n",
       "</tr>\n",
       "<tr>\n",
       "  <th>Intercept</th>         <td>-6.149e+05</td> <td> 2.59e+04</td> <td>  -23.763</td> <td> 0.000</td> <td>-6.66e+05</td> <td>-5.64e+05</td>\n",
       "</tr>\n",
       "<tr>\n",
       "  <th>BldgGrade</th>         <td> 1.782e+05</td> <td> 3189.105</td> <td>   55.882</td> <td> 0.000</td> <td> 1.72e+05</td> <td> 1.84e+05</td>\n",
       "</tr>\n",
       "<tr>\n",
       "  <th>SqFtTotLiving_log</th> <td> 1.117e+05</td> <td> 4236.633</td> <td>   26.369</td> <td> 0.000</td> <td> 1.03e+05</td> <td>  1.2e+05</td>\n",
       "</tr>\n",
       "<tr>\n",
       "  <th>BathFullCount_log</th> <td>  -1.2e+04</td> <td> 2961.676</td> <td>   -4.052</td> <td> 0.000</td> <td>-1.78e+04</td> <td>-6196.209</td>\n",
       "</tr>\n",
       "<tr>\n",
       "  <th>Bedrooms_log</th>      <td>-9263.2594</td> <td> 3389.587</td> <td>   -2.733</td> <td> 0.006</td> <td>-1.59e+04</td> <td>-2619.173</td>\n",
       "</tr>\n",
       "</table>\n",
       "<table class=\"simpletable\">\n",
       "<tr>\n",
       "  <th>Omnibus:</th>       <td>735.568</td> <th>  Durbin-Watson:     </th> <td>   1.960</td> \n",
       "</tr>\n",
       "<tr>\n",
       "  <th>Prob(Omnibus):</th> <td> 0.000</td>  <th>  Jarque-Bera (JB):  </th> <td>1046.814</td> \n",
       "</tr>\n",
       "<tr>\n",
       "  <th>Skew:</th>          <td> 0.509</td>  <th>  Prob(JB):          </th> <td>4.87e-228</td>\n",
       "</tr>\n",
       "<tr>\n",
       "  <th>Kurtosis:</th>      <td> 3.946</td>  <th>  Cond. No.          </th> <td>    85.9</td> \n",
       "</tr>\n",
       "</table><br/><br/>Notes:<br/>[1] Standard Errors assume that the covariance matrix of the errors is correctly specified."
      ],
      "text/plain": [
       "<class 'statsmodels.iolib.summary.Summary'>\n",
       "\"\"\"\n",
       "                            OLS Regression Results                            \n",
       "==============================================================================\n",
       "Dep. Variable:              SalePrice   R-squared:                       0.440\n",
       "Model:                            OLS   Adj. R-squared:                  0.440\n",
       "Method:                 Least Squares   F-statistic:                     2552.\n",
       "Date:                Mon, 29 Mar 2021   Prob (F-statistic):               0.00\n",
       "Time:                        17:09:32   Log-Likelihood:            -1.8177e+05\n",
       "No. Observations:               13009   AIC:                         3.635e+05\n",
       "Df Residuals:                   13004   BIC:                         3.636e+05\n",
       "Df Model:                           4                                         \n",
       "Covariance Type:            nonrobust                                         \n",
       "=====================================================================================\n",
       "                        coef    std err          t      P>|t|      [0.025      0.975]\n",
       "-------------------------------------------------------------------------------------\n",
       "Intercept         -6.149e+05   2.59e+04    -23.763      0.000   -6.66e+05   -5.64e+05\n",
       "BldgGrade          1.782e+05   3189.105     55.882      0.000    1.72e+05    1.84e+05\n",
       "SqFtTotLiving_log  1.117e+05   4236.633     26.369      0.000    1.03e+05     1.2e+05\n",
       "BathFullCount_log   -1.2e+04   2961.676     -4.052      0.000   -1.78e+04   -6196.209\n",
       "Bedrooms_log      -9263.2594   3389.587     -2.733      0.006   -1.59e+04   -2619.173\n",
       "==============================================================================\n",
       "Omnibus:                      735.568   Durbin-Watson:                   1.960\n",
       "Prob(Omnibus):                  0.000   Jarque-Bera (JB):             1046.814\n",
       "Skew:                           0.509   Prob(JB):                    4.87e-228\n",
       "Kurtosis:                       3.946   Cond. No.                         85.9\n",
       "==============================================================================\n",
       "\n",
       "Notes:\n",
       "[1] Standard Errors assume that the covariance matrix of the errors is correctly specified.\n",
       "\"\"\""
      ]
     },
     "execution_count": 9,
     "metadata": {},
     "output_type": "execute_result"
    }
   ],
   "source": [
    "model_5_results.summary()"
   ]
  },
  {
   "cell_type": "code",
   "execution_count": 10,
   "metadata": {},
   "outputs": [
    {
     "name": "stdout",
     "output_type": "stream",
     "text": [
      "Rainbow statistic: 1.0213753402093544\n",
      "Rainbow p-value: 0.19692044739552245\n"
     ]
    },
    {
     "data": {
      "image/png": "[encoded data removed]",
      "text/plain": [
       "<Figure size 432x288 with 1 Axes>"
      ]
     },
     "metadata": {
      "needs_background": "light"
     },
     "output_type": "display_data"
    },
    {
     "name": "stdout",
     "output_type": "stream",
     "text": [
      "Lagrange Multiplier p-value: 0.0\n",
      "F-statistic p-value: 0.0\n",
      "        VIF            feature\n",
      "0  1.000536          BldgGrade\n",
      "1  2.019893  SqFtTotLiving_log\n",
      "2  1.321374  BathFullCount_log\n",
      "3  1.716025       Bedrooms_log\n"
     ]
    }
   ],
   "source": [
    "stat_checks(model_5_df, model_5_results, ['BldgGrade', 'SqFtTotLiving_log', \n",
    "                                          'BathFullCount_log', 'Bedrooms_log'])"
   ]
  },
  {
   "cell_type": "markdown",
   "metadata": {},
   "source": [
    "I ended with being able to predict 44% of the variation, with violating the normality assumption due to the probability of the JB value is tiny. The homoscedasticty assumption was violated as well due to the check returning a value of 0. The model does not violate the linearity assumption and has very little multicolinearity."
   ]
  },
  {
   "cell_type": "markdown",
   "metadata": {},
   "source": [
    "With my model I could predict that with every increase of building grade, the sale price would increase by about 3200. For every added bedroom the sale price would increase by about 3400. And for every added full bathroom the sale price would increase by about 3000.\n",
    "\n",
    "Due to the model having a relatively low R-squared, large JB value and violating the homoscedasticity check, I would have to say I am not very confident in this model and it doesnt answer the business question very well.\n",
    "\n",
    "Next steps would be to investigate the data more to see if there are features that would group the data cleaner in order to better predict."
   ]
  },
  {
   "cell_type": "code",
   "execution_count": null,
   "metadata": {},
   "outputs": [],
   "source": []
  }
 ],
 "metadata": {
  "kernelspec": {
   "display_name": "learn-env",
   "language": "python",
   "name": "learn-env"
  },
  "language_info": {
   "codemirror_mode": {
    "name": "ipython",
    "version": 3
   },
   "file_extension": ".py",
   "mimetype": "text/x-python",
   "name": "python",
   "nbconvert_exporter": "python",
   "pygments_lexer": "ipython3",
   "version": "3.8.5"
  }
 },
 "nbformat": 4,
 "nbformat_minor": 4
}
